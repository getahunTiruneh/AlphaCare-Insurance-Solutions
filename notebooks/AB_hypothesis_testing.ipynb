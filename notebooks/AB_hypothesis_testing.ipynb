{
 "cells": [
  {
   "attachments": {},
   "cell_type": "markdown",
   "metadata": {},
   "source": [
    "### A/B Hypothesis Testing"
   ]
  },
  {
   "cell_type": "code",
   "execution_count": 17,
   "metadata": {},
   "outputs": [],
   "source": [
    "import os\n",
    "import sys\n",
    "import numpy as np\n",
    "import pandas as pd\n",
    "import scipy.stats as stats #It has all the probability distributions available along with many statistical functions.\n",
    "# sns.set(style=\"darkgrid\") # set the background for the graphs\n",
    "# Get the current working directory\n",
    "current_dir = os.getcwd()\n",
    "\n",
    "# Append the parent directory to sys.path\n",
    "parent_dir = os.path.dirname(current_dir)\n",
    "sys.path.append(parent_dir)\n",
    "\n",
    "# ignore warrnings\n",
    "import warnings\n",
    "warnings.filterwarnings(\"ignore\")"
   ]
  },
  {
   "cell_type": "code",
   "execution_count": 2,
   "metadata": {},
   "outputs": [],
   "source": [
    "from scripts.AB_haypothesis_tester import ABHypothesisTester"
   ]
  },
  {
   "cell_type": "code",
   "execution_count": 3,
   "metadata": {},
   "outputs": [],
   "source": [
    "#Reading the txt file MachineLearningRating_v3.txt\n",
    "file_path = '../data/MachineLearningRating_v3.txt'\n",
    "df=pd.read_csv(file_path, delimiter='|')"
   ]
  },
  {
   "cell_type": "code",
   "execution_count": 4,
   "metadata": {},
   "outputs": [
    {
     "data": {
      "text/html": [
       "<div>\n",
       "<style scoped>\n",
       "    .dataframe tbody tr th:only-of-type {\n",
       "        vertical-align: middle;\n",
       "    }\n",
       "\n",
       "    .dataframe tbody tr th {\n",
       "        vertical-align: top;\n",
       "    }\n",
       "\n",
       "    .dataframe thead th {\n",
       "        text-align: right;\n",
       "    }\n",
       "</style>\n",
       "<table border=\"1\" class=\"dataframe\">\n",
       "  <thead>\n",
       "    <tr style=\"text-align: right;\">\n",
       "      <th></th>\n",
       "      <th>UnderwrittenCoverID</th>\n",
       "      <th>PolicyID</th>\n",
       "      <th>TransactionMonth</th>\n",
       "      <th>IsVATRegistered</th>\n",
       "      <th>Citizenship</th>\n",
       "      <th>LegalType</th>\n",
       "      <th>Title</th>\n",
       "      <th>Language</th>\n",
       "      <th>Bank</th>\n",
       "      <th>AccountType</th>\n",
       "      <th>...</th>\n",
       "      <th>ExcessSelected</th>\n",
       "      <th>CoverCategory</th>\n",
       "      <th>CoverType</th>\n",
       "      <th>CoverGroup</th>\n",
       "      <th>Section</th>\n",
       "      <th>Product</th>\n",
       "      <th>StatutoryClass</th>\n",
       "      <th>StatutoryRiskType</th>\n",
       "      <th>TotalPremium</th>\n",
       "      <th>TotalClaims</th>\n",
       "    </tr>\n",
       "  </thead>\n",
       "  <tbody>\n",
       "    <tr>\n",
       "      <th>0</th>\n",
       "      <td>145249</td>\n",
       "      <td>12827</td>\n",
       "      <td>2015-03-01 00:00:00</td>\n",
       "      <td>True</td>\n",
       "      <td></td>\n",
       "      <td>Close Corporation</td>\n",
       "      <td>Mr</td>\n",
       "      <td>English</td>\n",
       "      <td>First National Bank</td>\n",
       "      <td>Current account</td>\n",
       "      <td>...</td>\n",
       "      <td>Mobility - Windscreen</td>\n",
       "      <td>Windscreen</td>\n",
       "      <td>Windscreen</td>\n",
       "      <td>Comprehensive - Taxi</td>\n",
       "      <td>Motor Comprehensive</td>\n",
       "      <td>Mobility Metered Taxis: Monthly</td>\n",
       "      <td>Commercial</td>\n",
       "      <td>IFRS Constant</td>\n",
       "      <td>21.929825</td>\n",
       "      <td>0.0</td>\n",
       "    </tr>\n",
       "    <tr>\n",
       "      <th>1</th>\n",
       "      <td>145249</td>\n",
       "      <td>12827</td>\n",
       "      <td>2015-05-01 00:00:00</td>\n",
       "      <td>True</td>\n",
       "      <td></td>\n",
       "      <td>Close Corporation</td>\n",
       "      <td>Mr</td>\n",
       "      <td>English</td>\n",
       "      <td>First National Bank</td>\n",
       "      <td>Current account</td>\n",
       "      <td>...</td>\n",
       "      <td>Mobility - Windscreen</td>\n",
       "      <td>Windscreen</td>\n",
       "      <td>Windscreen</td>\n",
       "      <td>Comprehensive - Taxi</td>\n",
       "      <td>Motor Comprehensive</td>\n",
       "      <td>Mobility Metered Taxis: Monthly</td>\n",
       "      <td>Commercial</td>\n",
       "      <td>IFRS Constant</td>\n",
       "      <td>21.929825</td>\n",
       "      <td>0.0</td>\n",
       "    </tr>\n",
       "    <tr>\n",
       "      <th>2</th>\n",
       "      <td>145249</td>\n",
       "      <td>12827</td>\n",
       "      <td>2015-07-01 00:00:00</td>\n",
       "      <td>True</td>\n",
       "      <td></td>\n",
       "      <td>Close Corporation</td>\n",
       "      <td>Mr</td>\n",
       "      <td>English</td>\n",
       "      <td>First National Bank</td>\n",
       "      <td>Current account</td>\n",
       "      <td>...</td>\n",
       "      <td>Mobility - Windscreen</td>\n",
       "      <td>Windscreen</td>\n",
       "      <td>Windscreen</td>\n",
       "      <td>Comprehensive - Taxi</td>\n",
       "      <td>Motor Comprehensive</td>\n",
       "      <td>Mobility Metered Taxis: Monthly</td>\n",
       "      <td>Commercial</td>\n",
       "      <td>IFRS Constant</td>\n",
       "      <td>0.000000</td>\n",
       "      <td>0.0</td>\n",
       "    </tr>\n",
       "    <tr>\n",
       "      <th>3</th>\n",
       "      <td>145255</td>\n",
       "      <td>12827</td>\n",
       "      <td>2015-05-01 00:00:00</td>\n",
       "      <td>True</td>\n",
       "      <td></td>\n",
       "      <td>Close Corporation</td>\n",
       "      <td>Mr</td>\n",
       "      <td>English</td>\n",
       "      <td>First National Bank</td>\n",
       "      <td>Current account</td>\n",
       "      <td>...</td>\n",
       "      <td>Mobility - Metered Taxis - R2000</td>\n",
       "      <td>Own damage</td>\n",
       "      <td>Own Damage</td>\n",
       "      <td>Comprehensive - Taxi</td>\n",
       "      <td>Motor Comprehensive</td>\n",
       "      <td>Mobility Metered Taxis: Monthly</td>\n",
       "      <td>Commercial</td>\n",
       "      <td>IFRS Constant</td>\n",
       "      <td>512.848070</td>\n",
       "      <td>0.0</td>\n",
       "    </tr>\n",
       "    <tr>\n",
       "      <th>4</th>\n",
       "      <td>145255</td>\n",
       "      <td>12827</td>\n",
       "      <td>2015-07-01 00:00:00</td>\n",
       "      <td>True</td>\n",
       "      <td></td>\n",
       "      <td>Close Corporation</td>\n",
       "      <td>Mr</td>\n",
       "      <td>English</td>\n",
       "      <td>First National Bank</td>\n",
       "      <td>Current account</td>\n",
       "      <td>...</td>\n",
       "      <td>Mobility - Metered Taxis - R2000</td>\n",
       "      <td>Own damage</td>\n",
       "      <td>Own Damage</td>\n",
       "      <td>Comprehensive - Taxi</td>\n",
       "      <td>Motor Comprehensive</td>\n",
       "      <td>Mobility Metered Taxis: Monthly</td>\n",
       "      <td>Commercial</td>\n",
       "      <td>IFRS Constant</td>\n",
       "      <td>0.000000</td>\n",
       "      <td>0.0</td>\n",
       "    </tr>\n",
       "  </tbody>\n",
       "</table>\n",
       "<p>5 rows × 52 columns</p>\n",
       "</div>"
      ],
      "text/plain": [
       "   UnderwrittenCoverID  PolicyID     TransactionMonth  IsVATRegistered  \\\n",
       "0               145249     12827  2015-03-01 00:00:00             True   \n",
       "1               145249     12827  2015-05-01 00:00:00             True   \n",
       "2               145249     12827  2015-07-01 00:00:00             True   \n",
       "3               145255     12827  2015-05-01 00:00:00             True   \n",
       "4               145255     12827  2015-07-01 00:00:00             True   \n",
       "\n",
       "  Citizenship          LegalType Title Language                 Bank  \\\n",
       "0              Close Corporation    Mr  English  First National Bank   \n",
       "1              Close Corporation    Mr  English  First National Bank   \n",
       "2              Close Corporation    Mr  English  First National Bank   \n",
       "3              Close Corporation    Mr  English  First National Bank   \n",
       "4              Close Corporation    Mr  English  First National Bank   \n",
       "\n",
       "       AccountType  ...                    ExcessSelected CoverCategory  \\\n",
       "0  Current account  ...             Mobility - Windscreen    Windscreen   \n",
       "1  Current account  ...             Mobility - Windscreen    Windscreen   \n",
       "2  Current account  ...             Mobility - Windscreen    Windscreen   \n",
       "3  Current account  ...  Mobility - Metered Taxis - R2000    Own damage   \n",
       "4  Current account  ...  Mobility - Metered Taxis - R2000    Own damage   \n",
       "\n",
       "    CoverType            CoverGroup              Section  \\\n",
       "0  Windscreen  Comprehensive - Taxi  Motor Comprehensive   \n",
       "1  Windscreen  Comprehensive - Taxi  Motor Comprehensive   \n",
       "2  Windscreen  Comprehensive - Taxi  Motor Comprehensive   \n",
       "3  Own Damage  Comprehensive - Taxi  Motor Comprehensive   \n",
       "4  Own Damage  Comprehensive - Taxi  Motor Comprehensive   \n",
       "\n",
       "                           Product StatutoryClass StatutoryRiskType  \\\n",
       "0  Mobility Metered Taxis: Monthly     Commercial     IFRS Constant   \n",
       "1  Mobility Metered Taxis: Monthly     Commercial     IFRS Constant   \n",
       "2  Mobility Metered Taxis: Monthly     Commercial     IFRS Constant   \n",
       "3  Mobility Metered Taxis: Monthly     Commercial     IFRS Constant   \n",
       "4  Mobility Metered Taxis: Monthly     Commercial     IFRS Constant   \n",
       "\n",
       "   TotalPremium TotalClaims  \n",
       "0     21.929825         0.0  \n",
       "1     21.929825         0.0  \n",
       "2      0.000000         0.0  \n",
       "3    512.848070         0.0  \n",
       "4      0.000000         0.0  \n",
       "\n",
       "[5 rows x 52 columns]"
      ]
     },
     "execution_count": 4,
     "metadata": {},
     "output_type": "execute_result"
    }
   ],
   "source": [
    "df.head(5)"
   ]
  },
  {
   "cell_type": "code",
   "execution_count": 5,
   "metadata": {},
   "outputs": [],
   "source": [
    "ab_tester=ABHypothesisTester(df)"
   ]
  },
  {
   "attachments": {},
   "cell_type": "markdown",
   "metadata": {},
   "source": [
    "## A/B Hypotheses Testing\n",
    "### 1. No Risk Differences Across Provinces:\n",
    "\n",
    "- ***Null Hypothesis (H0)***: There are no significant risk differences between provinces.\n",
    "- **Alternative Hypothesis (H1)**: There are significant risk differences between provinces."
   ]
  },
  {
   "cell_type": "code",
   "execution_count": 6,
   "metadata": {},
   "outputs": [],
   "source": [
    "# Define the provinces for each group\n",
    "control_provinces = ['Gauteng', 'Western Cape', 'KwaZulu-Natal']\n",
    "test_provinces = ['Eastern Cape', 'Mpumalanga', 'Limpopo', 'North West', 'Free State', 'Northern Cape']"
   ]
  },
  {
   "cell_type": "code",
   "execution_count": 7,
   "metadata": {},
   "outputs": [],
   "source": [
    "# 1. Risk Differences Across Provinces\n",
    "group_A, group_B = ab_tester.create_groups(df, 'Province', control_provinces, test_provinces)\n",
    "p_value_provinces = ab_tester.hypothesis_test(group_A, group_B, 'TotalClaims', test_type='t')"
   ]
  },
  {
   "cell_type": "code",
   "execution_count": 28,
   "metadata": {},
   "outputs": [
    {
     "name": "stdout",
     "output_type": "stream",
     "text": [
      "p_value_provinces=  9.13223703854227e-10\n"
     ]
    }
   ],
   "source": [
    "# Check the p-value for provinces\n",
    "print(\"p_value_provinces= \",p_value_provinces)"
   ]
  },
  {
   "cell_type": "code",
   "execution_count": 9,
   "metadata": {},
   "outputs": [
    {
     "name": "stdout",
     "output_type": "stream",
     "text": [
      "Risk Differences Across Provinces: p-value = 0.0000 -> Reject the null hypothesis\n"
     ]
    }
   ],
   "source": [
    "# Reporting for Risk Differences Across Provinces\n",
    "ab_tester.report_results(p_value_provinces, \"Risk Differences Across Provinces\")"
   ]
  },
  {
   "attachments": {},
   "cell_type": "markdown",
   "metadata": {},
   "source": [
    "####  Risk Differences Across Provinces (p-value = 0.0000):\n",
    "- **Conclusion**: Reject the null hypothesis.\n",
    "- **Observation**: There are significant differences in risk across provinces. This suggests that certain provinces are associated with higher or lower risks compared to others, indicating that location plays a critical role in determining the risk profile of insurance clients."
   ]
  },
  {
   "attachments": {},
   "cell_type": "markdown",
   "metadata": {},
   "source": [
    "--------------------------------------------------------------------------------------------------------------------------------"
   ]
  },
  {
   "attachments": {},
   "cell_type": "markdown",
   "metadata": {},
   "source": [
    "### 2. No Risk Differences Between Zip Codes:\n",
    "\n",
    "- **Null Hypothesis (H0)**: There are no significant risk differences between zip codes.\n",
    "- **Alternative Hypothesis (H1)**: There are significant risk differences between zip codes."
   ]
  },
  {
   "cell_type": "code",
   "execution_count": 10,
   "metadata": {},
   "outputs": [],
   "source": [
    "# 2. Risk Differences Between Zip Codes\n",
    "group_A, group_B = ab_tester.create_zipcode_groups(df)\n",
    "p_value_zipcode = ab_tester.hypothesis_test(group_A, group_B, 'TotalClaims', test_type='t')"
   ]
  },
  {
   "cell_type": "code",
   "execution_count": 12,
   "metadata": {},
   "outputs": [
    {
     "name": "stdout",
     "output_type": "stream",
     "text": [
      "Risk Differences Between Zip Codes: p-value = 0.2776 -> Fail to reject the null hypothesis\n"
     ]
    }
   ],
   "source": [
    "# Reporting for Risk Differences Across Zip Codes\n",
    "ab_tester.report_results(p_value_zipcode, \"Risk Differences Between Zip Codes\")"
   ]
  },
  {
   "attachments": {},
   "cell_type": "markdown",
   "metadata": {},
   "source": [
    "#### Risk Differences Between Zip Codes (p-value = 0.2776):\n",
    "\n",
    "- **Conclusion**: Fail to reject the null hypothesis.\n",
    "- **Observation**: There is no statistically significant difference in risk between zip codes. This means that at the zip code level, the risk profile is relatively consistent, and zip code alone may not be a determining factor for risk differentiation."
   ]
  },
  {
   "attachments": {},
   "cell_type": "markdown",
   "metadata": {},
   "source": [
    "--------------------------------------------------------------------------------------------------------------------------------"
   ]
  },
  {
   "attachments": {},
   "cell_type": "markdown",
   "metadata": {},
   "source": [
    "### 3. No Significant Margin (Profit) Differences Between Zip Codes:\n",
    "\n",
    "- **Null Hypothesis (H0)**: There are no significant margin differences between zip codes.\n",
    "- **Alternative Hypothesis (H1)**: There are significant margin differences between zip codes."
   ]
  },
  {
   "cell_type": "code",
   "execution_count": 18,
   "metadata": {},
   "outputs": [],
   "source": [
    "# Calculate Profit Margin\n",
    "df['ProfitMargin'] = (df['TotalPremium'] - df['TotalClaims']) / df['TotalPremium']\n",
    "\n",
    "# Handle missing or infinite values in Profit Margin\n",
    "df['ProfitMargin'].replace([np.inf, -np.inf], np.nan, inplace=True)\n",
    "df.dropna(subset=['ProfitMargin'], inplace=True)"
   ]
  },
  {
   "cell_type": "code",
   "execution_count": 22,
   "metadata": {},
   "outputs": [
    {
     "ename": "ValueError",
     "evalue": "No data; `observed` has size 0.",
     "output_type": "error",
     "traceback": [
      "\u001b[1;31m---------------------------------------------------------------------------\u001b[0m",
      "\u001b[1;31mValueError\u001b[0m                                Traceback (most recent call last)",
      "Cell \u001b[1;32mIn[22], line 3\u001b[0m\n\u001b[0;32m      1\u001b[0m \u001b[39m# 3. Margin (Profit) Differences Between Zip Codes\u001b[39;00m\n\u001b[0;32m      2\u001b[0m group_A, group_B \u001b[39m=\u001b[39m ab_tester\u001b[39m.\u001b[39mcreate_zipcode_groups(df)\n\u001b[1;32m----> 3\u001b[0m p_value_margin \u001b[39m=\u001b[39m ab_tester\u001b[39m.\u001b[39;49mhypothesis_test(group_A, group_B, \u001b[39m'\u001b[39;49m\u001b[39mProfitMargin\u001b[39;49m\u001b[39m'\u001b[39;49m, test_type\u001b[39m=\u001b[39;49m\u001b[39m'\u001b[39;49m\u001b[39mchi2\u001b[39;49m\u001b[39m'\u001b[39;49m)\n",
      "File \u001b[1;32me:\\Kiffya_10_acc\\Week 3\\Technical_Challenge_Task\\AlphaCare-Insurance-Solutions\\scripts\\AB_haypothesis_tester.py:38\u001b[0m, in \u001b[0;36mABHypothesisTester.hypothesis_test\u001b[1;34m(self, group_A, group_B, column, test_type)\u001b[0m\n\u001b[0;32m     35\u001b[0m \u001b[39melif\u001b[39;00m test_type \u001b[39m==\u001b[39m \u001b[39m'\u001b[39m\u001b[39mchi2\u001b[39m\u001b[39m'\u001b[39m:\n\u001b[0;32m     36\u001b[0m     \u001b[39m# Chi-Squared test for categorical data\u001b[39;00m\n\u001b[0;32m     37\u001b[0m     contingency_table \u001b[39m=\u001b[39m pd\u001b[39m.\u001b[39mcrosstab(group_A[column]\u001b[39m.\u001b[39mdropna(), group_B[column]\u001b[39m.\u001b[39mdropna())\n\u001b[1;32m---> 38\u001b[0m     chi2_stat, p_value, _, _ \u001b[39m=\u001b[39m stats\u001b[39m.\u001b[39;49mchi2_contingency(contingency_table)\n\u001b[0;32m     39\u001b[0m \u001b[39melse\u001b[39;00m:\n\u001b[0;32m     40\u001b[0m     \u001b[39mraise\u001b[39;00m \u001b[39mValueError\u001b[39;00m(\u001b[39m\"\u001b[39m\u001b[39mUnsupported test type. Use \u001b[39m\u001b[39m'\u001b[39m\u001b[39mt\u001b[39m\u001b[39m'\u001b[39m\u001b[39m for t-test or \u001b[39m\u001b[39m'\u001b[39m\u001b[39mchi2\u001b[39m\u001b[39m'\u001b[39m\u001b[39m for chi-squared test.\u001b[39m\u001b[39m\"\u001b[39m)\n",
      "File \u001b[1;32me:\\Kiffya_10_acc\\Week 3\\Technical_Challenge_Task\\AlphaCare-Insurance-Solutions\\.venv\\Lib\\site-packages\\scipy\\stats\\contingency.py:333\u001b[0m, in \u001b[0;36mchi2_contingency\u001b[1;34m(observed, correction, lambda_)\u001b[0m\n\u001b[0;32m    331\u001b[0m     \u001b[39mraise\u001b[39;00m \u001b[39mValueError\u001b[39;00m(\u001b[39m\"\u001b[39m\u001b[39mAll values in `observed` must be nonnegative.\u001b[39m\u001b[39m\"\u001b[39m)\n\u001b[0;32m    332\u001b[0m \u001b[39mif\u001b[39;00m observed\u001b[39m.\u001b[39msize \u001b[39m==\u001b[39m \u001b[39m0\u001b[39m:\n\u001b[1;32m--> 333\u001b[0m     \u001b[39mraise\u001b[39;00m \u001b[39mValueError\u001b[39;00m(\u001b[39m\"\u001b[39m\u001b[39mNo data; `observed` has size 0.\u001b[39m\u001b[39m\"\u001b[39m)\n\u001b[0;32m    335\u001b[0m expected \u001b[39m=\u001b[39m expected_freq(observed)\n\u001b[0;32m    336\u001b[0m \u001b[39mif\u001b[39;00m np\u001b[39m.\u001b[39many(expected \u001b[39m==\u001b[39m \u001b[39m0\u001b[39m):\n\u001b[0;32m    337\u001b[0m     \u001b[39m# Include one of the positions where expected is zero in\u001b[39;00m\n\u001b[0;32m    338\u001b[0m     \u001b[39m# the exception message.\u001b[39;00m\n",
      "\u001b[1;31mValueError\u001b[0m: No data; `observed` has size 0."
     ]
    }
   ],
   "source": [
    "# 3. Margin (Profit) Differences Between Zip Codes\n",
    "group_A, group_B = ab_tester.create_zipcode_groups(df)\n",
    "p_value_margin = ab_tester.hypothesis_test(group_A, group_B, 'ProfitMargin', test_type='t')"
   ]
  },
  {
   "cell_type": "code",
   "execution_count": 21,
   "metadata": {},
   "outputs": [
    {
     "name": "stdout",
     "output_type": "stream",
     "text": [
      "Margin Differences Between Zip Codes: p-value = 0.0880 -> Fail to reject the null hypothesis\n"
     ]
    }
   ],
   "source": [
    "# Reporting for Profit Margin Differences Across Zip Codes\n",
    "ab_tester.report_results(p_value_margin, \"Margin Differences Between Zip Codes\")"
   ]
  },
  {
   "attachments": {},
   "cell_type": "markdown",
   "metadata": {},
   "source": [
    "#### Margin Differences Between Zip Codes (p-value = 0.0880):\n",
    "\n",
    "- **Conclusion**: Fail to reject the null hypothesis.\n",
    "- **Observation**: There is no significant difference in profit margins between zip codes. Although the p-value is closer to the 0.05 threshold, it does not reach statistical significance. This suggests that, at least for this dataset, profitability is similar across different zip codes."
   ]
  },
  {
   "attachments": {},
   "cell_type": "markdown",
   "metadata": {},
   "source": [
    "--------------------------------------------------------------------------------------------------------------------------------"
   ]
  },
  {
   "attachments": {},
   "cell_type": "markdown",
   "metadata": {},
   "source": [
    "#### 4. No Significant Risk Differences Between Women and Men:\n",
    "\n",
    "- **Null Hypothesis (H0)**: There are no significant risk differences between women and men.\n",
    "- **Alternative Hypothesis (H1)**: There are significant risk differences between women and men."
   ]
  },
  {
   "cell_type": "code",
   "execution_count": 23,
   "metadata": {},
   "outputs": [],
   "source": [
    "# Data Cleaning\n",
    "df['Gender'] = df['Gender'].replace({'Not specified': 'Unknown'})\n",
    "df = df.dropna(subset=['Gender'])"
   ]
  },
  {
   "cell_type": "code",
   "execution_count": 24,
   "metadata": {},
   "outputs": [
    {
     "ename": "ValueError",
     "evalue": "No data; `observed` has size 0.",
     "output_type": "error",
     "traceback": [
      "\u001b[1;31m---------------------------------------------------------------------------\u001b[0m",
      "\u001b[1;31mValueError\u001b[0m                                Traceback (most recent call last)",
      "Cell \u001b[1;32mIn[24], line 4\u001b[0m\n\u001b[0;32m      2\u001b[0m group_A, group_B \u001b[39m=\u001b[39m ab_tester\u001b[39m.\u001b[39mcreate_gender_groups(df)\n\u001b[0;32m      3\u001b[0m \u001b[39m# group_A, group_B = ab_tester.create_groups(df, 'Gender', 'Female', 'Male')\u001b[39;00m\n\u001b[1;32m----> 4\u001b[0m p_value_gender \u001b[39m=\u001b[39m ab_tester\u001b[39m.\u001b[39;49mhypothesis_test(group_A, group_B, \u001b[39m'\u001b[39;49m\u001b[39mTotalClaims\u001b[39;49m\u001b[39m'\u001b[39;49m, test_type\u001b[39m=\u001b[39;49m\u001b[39m'\u001b[39;49m\u001b[39mchi2\u001b[39;49m\u001b[39m'\u001b[39;49m)\n",
      "File \u001b[1;32me:\\Kiffya_10_acc\\Week 3\\Technical_Challenge_Task\\AlphaCare-Insurance-Solutions\\scripts\\AB_haypothesis_tester.py:38\u001b[0m, in \u001b[0;36mABHypothesisTester.hypothesis_test\u001b[1;34m(self, group_A, group_B, column, test_type)\u001b[0m\n\u001b[0;32m     35\u001b[0m \u001b[39melif\u001b[39;00m test_type \u001b[39m==\u001b[39m \u001b[39m'\u001b[39m\u001b[39mchi2\u001b[39m\u001b[39m'\u001b[39m:\n\u001b[0;32m     36\u001b[0m     \u001b[39m# Chi-Squared test for categorical data\u001b[39;00m\n\u001b[0;32m     37\u001b[0m     contingency_table \u001b[39m=\u001b[39m pd\u001b[39m.\u001b[39mcrosstab(group_A[column]\u001b[39m.\u001b[39mdropna(), group_B[column]\u001b[39m.\u001b[39mdropna())\n\u001b[1;32m---> 38\u001b[0m     chi2_stat, p_value, _, _ \u001b[39m=\u001b[39m stats\u001b[39m.\u001b[39;49mchi2_contingency(contingency_table)\n\u001b[0;32m     39\u001b[0m \u001b[39melse\u001b[39;00m:\n\u001b[0;32m     40\u001b[0m     \u001b[39mraise\u001b[39;00m \u001b[39mValueError\u001b[39;00m(\u001b[39m\"\u001b[39m\u001b[39mUnsupported test type. Use \u001b[39m\u001b[39m'\u001b[39m\u001b[39mt\u001b[39m\u001b[39m'\u001b[39m\u001b[39m for t-test or \u001b[39m\u001b[39m'\u001b[39m\u001b[39mchi2\u001b[39m\u001b[39m'\u001b[39m\u001b[39m for chi-squared test.\u001b[39m\u001b[39m\"\u001b[39m)\n",
      "File \u001b[1;32me:\\Kiffya_10_acc\\Week 3\\Technical_Challenge_Task\\AlphaCare-Insurance-Solutions\\.venv\\Lib\\site-packages\\scipy\\stats\\contingency.py:333\u001b[0m, in \u001b[0;36mchi2_contingency\u001b[1;34m(observed, correction, lambda_)\u001b[0m\n\u001b[0;32m    331\u001b[0m     \u001b[39mraise\u001b[39;00m \u001b[39mValueError\u001b[39;00m(\u001b[39m\"\u001b[39m\u001b[39mAll values in `observed` must be nonnegative.\u001b[39m\u001b[39m\"\u001b[39m)\n\u001b[0;32m    332\u001b[0m \u001b[39mif\u001b[39;00m observed\u001b[39m.\u001b[39msize \u001b[39m==\u001b[39m \u001b[39m0\u001b[39m:\n\u001b[1;32m--> 333\u001b[0m     \u001b[39mraise\u001b[39;00m \u001b[39mValueError\u001b[39;00m(\u001b[39m\"\u001b[39m\u001b[39mNo data; `observed` has size 0.\u001b[39m\u001b[39m\"\u001b[39m)\n\u001b[0;32m    335\u001b[0m expected \u001b[39m=\u001b[39m expected_freq(observed)\n\u001b[0;32m    336\u001b[0m \u001b[39mif\u001b[39;00m np\u001b[39m.\u001b[39many(expected \u001b[39m==\u001b[39m \u001b[39m0\u001b[39m):\n\u001b[0;32m    337\u001b[0m     \u001b[39m# Include one of the positions where expected is zero in\u001b[39;00m\n\u001b[0;32m    338\u001b[0m     \u001b[39m# the exception message.\u001b[39;00m\n",
      "\u001b[1;31mValueError\u001b[0m: No data; `observed` has size 0."
     ]
    }
   ],
   "source": [
    "# 4. Risk Differences Between Women and Men\n",
    "group_A, group_B = ab_tester.create_gender_groups(df)\n",
    "# group_A, group_B = ab_tester.create_groups(df, 'Gender', 'Female', 'Male')\n",
    "p_value_gender = ab_tester.hypothesis_test(group_A, group_B, 'TotalClaims', test_type='t')"
   ]
  },
  {
   "cell_type": "code",
   "execution_count": null,
   "metadata": {},
   "outputs": [
    {
     "name": "stdout",
     "output_type": "stream",
     "text": [
      "Risk Differences Between Genders: p-value = 0.8041 -> Fail to reject the null hypothesis\n"
     ]
    }
   ],
   "source": [
    "ab_tester.report_results(p_value_gender, \"Risk Differences Between Genders\")"
   ]
  },
  {
   "attachments": {},
   "cell_type": "markdown",
   "metadata": {},
   "source": [
    "#### Risk Differences Between Genders (p-value = 0.8041):\n",
    "\n",
    "- **Conclusion**: Fail to reject the null hypothesis.\n",
    "- **Observation**: There is no significant difference in risk between genders. This indicates that both men and women exhibit similar risk profiles in this insurance dataset, and gender does not appear to be a key differentiator in risk assessment."
   ]
  },
  {
   "attachments": {},
   "cell_type": "markdown",
   "metadata": {},
   "source": [
    "-------------------------------------------------------------------------------------------------------------------------------------------"
   ]
  },
  {
   "attachments": {},
   "cell_type": "markdown",
   "metadata": {},
   "source": [
    "### General Insight:\n",
    "- The analysis indicates that geographic location (provinces) plays a significant role in risk determination, but more granular levels like zip codes do not. Additionally, there are no significant differences in risk or profitability based on gender or between zip codes, which could imply a fairly homogeneous risk and margin landscape in those specific areas."
   ]
  }
 ],
 "metadata": {
  "kernelspec": {
   "display_name": ".venv",
   "language": "python",
   "name": "python3"
  },
  "language_info": {
   "codemirror_mode": {
    "name": "ipython",
    "version": 3
   },
   "file_extension": ".py",
   "mimetype": "text/x-python",
   "name": "python",
   "nbconvert_exporter": "python",
   "pygments_lexer": "ipython3",
   "version": "3.12.6"
  },
  "orig_nbformat": 4
 },
 "nbformat": 4,
 "nbformat_minor": 2
}
